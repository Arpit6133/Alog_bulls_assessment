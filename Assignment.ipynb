{
 "cells": [
  {
   "cell_type": "code",
   "execution_count": null,
   "id": "e351515e",
   "metadata": {},
   "outputs": [],
   "source": [
    "# All necessary imports \n",
    "import requests\n",
    "import pandas as pd\n",
    "import numpy as np\n",
    "import matplotlib.pyplot as plt"
   ]
  },
  {
   "cell_type": "code",
   "execution_count": null,
   "id": "2031e2f2",
   "metadata": {},
   "outputs": [],
   "source": [
    "# Here i Define a class for ScriptData\n",
    "class ScriptData:\n",
    "# Here we initialize a constructor with parameters\n",
    "    def __init__(self, api_key):\n",
    "        self.api_key = api_key\n",
    "# Here we store our dataframe \n",
    "        self.data = {}\n",
    "    \n",
    "# This function is used to get intraday data for 6omin interval\n",
    "    def fetch_intraday_data(self, script):\n",
    "        try:\n",
    "            url = f\"https://www.alphavantage.co/query?function=TIME_SERIES_INTRADAY&symbol={script}&interval=60min&apikey={self.api_key}\"\n",
    "            response = requests.get(url)\n",
    "            self.intraday_data = response.json()\n",
    "            return self.intraday_data\n",
    "        except Exception as e:\n",
    "            print(f'caught {type(e)}: e')\n",
    "    \n",
    "# This function is used to convert intraday data into dataframe using pandas\n",
    "    def convert_intraday_data(self, script):\n",
    "        try:\n",
    "            self.fetch_intraday_data(script)\n",
    "            intraday_data = self.intraday_data[\"Time Series (60min)\"]\n",
    "            data = []\n",
    "            for timestamp, values in intraday_data.items():\n",
    "                data.append([timestamp, float(values[\"1. open\"]), float(values[\"2. high\"]), float(values[\"3. low\"]), float(values[\"4. close\"]), int(values[\"5. volume\"])])\n",
    "            self.df = pd.DataFrame(data, columns=[\"timestamp\", \"open\", \"high\", \"low\", \"close\", \"volume\"])\n",
    "            self.df['timestamp'] = pd.to_datetime(self.df['timestamp'])\n",
    "\n",
    "            self.data[script] = self.df\n",
    "\n",
    "            return self.df,self.data\n",
    "        except Exception as e:\n",
    "            print(f'caught {type(e)}: e')"
   ]
  },
  {
   "cell_type": "code",
   "execution_count": null,
   "id": "08bf5dff",
   "metadata": {},
   "outputs": [],
   "source": [
    "# This function is used to take moving average of given timeperiod with parameters as df(dataframe) and timeperiod\n",
    "def indicator1(df, timeperiod):\n",
    "    try:\n",
    "        indicator = df[\"close\"].rolling(timeperiod).mean()\n",
    "        indicator_df = pd.DataFrame({'timestamp': df['timestamp'][1:], 'indicator': indicator})\n",
    "        return indicator_df\n",
    "    except Exception as e:\n",
    "        print(f'caught {type(e)}: e')"
   ]
  },
  {
   "cell_type": "code",
   "execution_count": null,
   "id": "79b95090",
   "metadata": {},
   "outputs": [],
   "source": [
    "# Here we define a class for strategy for getting signals like buy,sell etc.\n",
    "class Strategy:\n",
    "    \n",
    "    def __init__(self, api_key):\n",
    "        self.script_data = ScriptData(api_key)\n",
    "        \n",
    "# This function is used to generate signals for buy and sell\n",
    "    def generate_signals(self, script, timeperiod):\n",
    "        try:\n",
    "            self.script_data.convert_intraday_data(script)\n",
    "            df = self.script_data.df\n",
    "            indicator_df = indicator1(df, timeperiod)\n",
    "            signals = []\n",
    "# Here we check condition for buy or sell signal\n",
    "            for i in range(1, len(df)):\n",
    "                if indicator_df['indicator'][i] > df['close'][i] and indicator_df['indicator'][i-1] <= df['close'][i]:\n",
    "                    signals.append('SELL')\n",
    "                elif indicator_df['indicator'][i] < df['close'][i] and indicator_df['indicator'][i-1] >= df['close'][i-1]:\n",
    "                    signals.append('BUY')\n",
    "                else:\n",
    "                    signals.append('NO_SIGNAL')\n",
    "            self.signals = pd.DataFrame({'timestamp': df['timestamp'][1:], 'signal': signals})\n",
    "            return self.signals\n",
    "        except Exception as e:\n",
    "            print(f'caught {type(e)}: e')\n"
   ]
  },
  {
   "cell_type": "code",
   "execution_count": null,
   "id": "36fe946a",
   "metadata": {},
   "outputs": [],
   "source": [
    "api_key = \"C00PZAXAW392MJA7\"\n",
    "script1 = \"AAPL\"\n",
    "script2 = \"GOOGL\"\n",
    "timeperiod = 5\n",
    "script_data = ScriptData(api_key)"
   ]
  },
  {
   "cell_type": "code",
   "execution_count": null,
   "id": "19d29c50",
   "metadata": {},
   "outputs": [],
   "source": [
    "script_data.fetch_intraday_data(script1)"
   ]
  },
  {
   "cell_type": "code",
   "execution_count": null,
   "id": "c8452ec2",
   "metadata": {},
   "outputs": [],
   "source": [
    "script_data.fetch_intraday_data(script2)"
   ]
  },
  {
   "cell_type": "code",
   "execution_count": null,
   "id": "3564d1e9",
   "metadata": {},
   "outputs": [],
   "source": [
    "script_data.convert_intraday_data(script1)\n",
    "script_data.convert_intraday_data(script2)"
   ]
  },
  {
   "cell_type": "code",
   "execution_count": null,
   "id": "0414d1e7",
   "metadata": {},
   "outputs": [],
   "source": [
    "indicator1(script_data.data['AAPL'],timeperiod)"
   ]
  },
  {
   "cell_type": "code",
   "execution_count": null,
   "id": "7c9f35fb",
   "metadata": {},
   "outputs": [],
   "source": [
    "script_data.data"
   ]
  },
  {
   "cell_type": "code",
   "execution_count": null,
   "id": "553731ba",
   "metadata": {},
   "outputs": [],
   "source": [
    "\"GOOGL\" in script_data.data"
   ]
  },
  {
   "cell_type": "code",
   "execution_count": null,
   "id": "28d60db2",
   "metadata": {},
   "outputs": [],
   "source": [
    "\"AAPL\" in script_data.data"
   ]
  },
  {
   "cell_type": "code",
   "execution_count": null,
   "id": "680a5e20",
   "metadata": {},
   "outputs": [],
   "source": [
    "\"NVDA\" in script_data.data"
   ]
  },
  {
   "cell_type": "code",
   "execution_count": null,
   "id": "3d93b161",
   "metadata": {},
   "outputs": [],
   "source": [
    "script_data.data['AAPL']"
   ]
  },
  {
   "cell_type": "code",
   "execution_count": null,
   "id": "609afee2",
   "metadata": {},
   "outputs": [],
   "source": [
    "script_data.data['GOOGL']"
   ]
  },
  {
   "cell_type": "code",
   "execution_count": null,
   "id": "ce768773",
   "metadata": {
    "scrolled": true
   },
   "outputs": [],
   "source": [
    "import plotly.graph_objects as go\n",
    "\n",
    "import pandas as pd\n",
    "from datetime import datetime\n",
    "\n",
    "# df = pd.read_csv('https://raw.githubusercontent.com/plotly/datasets/master/finance-charts-apple.csv')\n",
    "\n",
    "fig = go.Figure(data=[go.Candlestick(x=script_data.data['AAPL']['timestamp'],\n",
    "                open=script_data.data['AAPL']['open'],\n",
    "                high=script_data.data['AAPL']['high'],\n",
    "                low=script_data.data['AAPL']['low'],\n",
    "                close=script_data.data['AAPL']['close'])])\n",
    "\n",
    "fig.show()"
   ]
  },
  {
   "cell_type": "code",
   "execution_count": null,
   "id": "1cd0f2ba",
   "metadata": {},
   "outputs": [],
   "source": [
    "strategy = Strategy(api_key)"
   ]
  },
  {
   "cell_type": "code",
   "execution_count": null,
   "id": "7e5383b2",
   "metadata": {
    "scrolled": true
   },
   "outputs": [],
   "source": [
    "strategy.generate_signals(script,timeperiod)"
   ]
  },
  {
   "cell_type": "code",
   "execution_count": null,
   "id": "110875c1",
   "metadata": {},
   "outputs": [],
   "source": [
    "df_ind = indicator1(script_data.data['AAPL'],timeperiod)"
   ]
  },
  {
   "cell_type": "code",
   "execution_count": null,
   "id": "e07c5624",
   "metadata": {},
   "outputs": [],
   "source": [
    "# Check the line plot for indicator and close\n",
    "# line 1 points\n",
    "x1 = script_data.data['AAPL']['timestamp'].head(20)\n",
    "y1 = script_data.data['AAPL']['close'].head(20)\n",
    "# plotting the line 1 points \n",
    "plt.plot(x1, y1, label = \"line 1\")\n",
    "# line 2 points\n",
    "x2 = script_data.data['AAPL']['timestamp'].head(20)\n",
    "y2 = df_ind['indicator'].head(20)\n",
    "# plotting the line 2 points \n",
    "plt.plot(x2, y2, label = \"line 2\")\n",
    "plt.xlabel('x - axis')\n",
    "# Set the y axis label of the current axis.\n",
    "plt.ylabel('y - axis')\n",
    "# Set a title of the current axes.\n",
    "plt.title('Two or more lines on same plot with suitable legends ')\n",
    "# show a legend on the plot\n",
    "plt.legend()\n",
    "# Display a figure.\n",
    "plt.show()"
   ]
  },
  {
   "cell_type": "code",
   "execution_count": null,
   "id": "c45962d9",
   "metadata": {},
   "outputs": [],
   "source": []
  },
  {
   "cell_type": "code",
   "execution_count": null,
   "id": "5837797c",
   "metadata": {},
   "outputs": [],
   "source": []
  }
 ],
 "metadata": {
  "kernelspec": {
   "display_name": "Python 3",
   "language": "python",
   "name": "python3"
  },
  "language_info": {
   "codemirror_mode": {
    "name": "ipython",
    "version": 3
   },
   "file_extension": ".py",
   "mimetype": "text/x-python",
   "name": "python",
   "nbconvert_exporter": "python",
   "pygments_lexer": "ipython3",
   "version": "3.6.9"
  }
 },
 "nbformat": 4,
 "nbformat_minor": 5
}
